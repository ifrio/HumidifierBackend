{
 "cells": [
  {
   "cell_type": "code",
   "execution_count": 1,
   "metadata": {},
   "outputs": [],
   "source": [
    "from sklearn.linear_model import Ridge\n",
    "from sklearn.model_selection import train_test_split\n",
    "from sklearn.preprocessing import PolynomialFeatures\n",
    "from sklearn.pipeline import make_pipeline\n",
    "from sklearn import svm\n",
    "import pandas as pd\n",
    "from sklearn import linear_model"
   ]
  },
  {
   "cell_type": "code",
   "execution_count": 2,
   "metadata": {},
   "outputs": [
    {
     "name": "stdout",
     "output_type": "stream",
     "text": [
      " \n",
      "    On/Off  Temp  Wind Speed  Humidity\n",
      "0        1     8           8        93\n",
      "1        1     7           9        94\n",
      "2        1     7          10        91\n",
      "3        0    10          16        77\n",
      "4        0    14          22        55\n",
      "5        0    15          22        49\n",
      "6        0    12          19        58\n",
      "7        0    10          16        65\n",
      "8        1     6          13        82\n",
      "9        1     7          10        85\n",
      "10       1     7           6        84\n",
      "11       1     9           3        76\n",
      "12       0    12           3        64\n",
      "13       0    13           3        63\n",
      "14       0    12           7        70\n",
      "15       0    10           7        74\n"
     ]
    }
   ],
   "source": [
    "\"\"\"\n",
    "Building the data table\n",
    "\"\"\"\n",
    "data = [\n",
    "[1, 8, 8, 93],\n",
    "[1, 7, 9, 94],\n",
    "[1, 7, 10, 91],\n",
    "[0, 10, 16, 77],\n",
    "[0, 14, 22, 55],\n",
    "[0, 15, 22, 49],\n",
    "[0, 12, 19, 58],\n",
    "[0, 10, 16, 65],\n",
    "[1, 6, 13, 82],\n",
    "[1, 7, 10, 85],\n",
    "[1, 7, 6, 84],\n",
    "[1, 9, 3, 76],\n",
    "[0, 12, 3, 64],\n",
    "[0, 13, 3, 63],\n",
    "[0, 12, 7, 70],\n",
    "[0, 10, 7, 74]]\n",
    "\n",
    "column =  [\"On/Off\", \"Temp\",\"Wind Speed\", \"Humidity\"]\n",
    "data = pd.DataFrame(data,columns =column)\n",
    "print(\" \")\n",
    "print(data)"
   ]
  },
  {
   "cell_type": "code",
   "execution_count": 3,
   "metadata": {},
   "outputs": [
    {
     "name": "stdout",
     "output_type": "stream",
     "text": [
      "Res: 0.7868540575945173\n",
      "Res: 0.8693498272920097\n",
      "Res: 0.9424716263807498\n"
     ]
    }
   ],
   "source": [
    "\"\"\" \n",
    "Research Quesiton #1:\n",
    "Predicting Humidity based on Temp in Celcius, and the Wind speed using\n",
    "a polynomial machine learning model\n",
    "\"\"\"\n",
    "xData = data[[\"Temp\", \"Wind Speed\"]]\n",
    "yData = data[\"Humidity\"]\n",
    "X_train, X_test, Y_train, Y_test = train_test_split(xData,  yData,test_size=0.3,random_state=0)\n",
    "\n",
    "model = linear_model.LinearRegression()\n",
    "model.fit(X_train, Y_train)\n",
    "print('Res:', model.score(X_test, Y_test))\n",
    "\n",
    "model = make_pipeline(PolynomialFeatures(2), Ridge())\n",
    "model.fit(X_train, Y_train)\n",
    "print('Res:', model.score(X_test, Y_test))\n",
    "\n",
    "model = make_pipeline(PolynomialFeatures(3), Ridge())\n",
    "model.fit(X_train, Y_train)\n",
    "print('Res:', model.score(X_test, Y_test))"
   ]
  },
  {
   "cell_type": "code",
   "execution_count": 4,
   "metadata": {},
   "outputs": [
    {
     "name": "stdout",
     "output_type": "stream",
     "text": [
      "Res: 1.0\n",
      "Res: 1.0\n",
      "Res: 1.0\n"
     ]
    }
   ],
   "source": [
    "\"\"\"\n",
    "Research Question #2:\n",
    "Classifying between whether the machine was turned on or off based on the humidity, temperature, and wind speed\n",
    "\"\"\"\n",
    "xData = data[[\"Temp\", \"Wind Speed\"]]\n",
    "yData = data[\"On/Off\"]\n",
    "X_train, X_test, Y_train, Y_test = train_test_split(xData,  yData,test_size=0.3,random_state=0)\n",
    "\n",
    "recommendation_model = svm.SVC()\n",
    "recommendation_model.fit(xData, yData)\n",
    "print('Res:', recommendation_model.score(X_test, Y_test))\n",
    "\n",
    "xData = data[[\"Wind Speed\",\"Humidity\"]]\n",
    "yData = data[\"On/Off\"]\n",
    "X_train, X_test, Y_train, Y_test = train_test_split(xData,  yData,test_size=0.3,random_state=0)\n",
    "\n",
    "recommendation_model = svm.SVC()\n",
    "recommendation_model.fit(xData, yData)\n",
    "print('Res:', recommendation_model.score(X_test, Y_test))\n",
    "\n",
    "xData = data[[\"Temp\", \"Wind Speed\",\"Humidity\"]]\n",
    "yData = data[\"On/Off\"]\n",
    "X_train, X_test, Y_train, Y_test = train_test_split(xData,  yData,test_size=0.3,random_state=0)\n",
    "\n",
    "recommendation_model = svm.SVC()\n",
    "recommendation_model.fit(xData, yData)\n",
    "print('Res:', recommendation_model.score(X_test, Y_test))"
   ]
  },
  {
   "cell_type": "code",
   "execution_count": 16,
   "metadata": {},
   "outputs": [
    {
     "data": {
      "text/plain": [
       "Text(0, 0.5, 'MSE')"
      ]
     },
     "execution_count": 16,
     "metadata": {},
     "output_type": "execute_result"
    },
    {
     "data": {
      "image/png": "[encoded data removed]",
      "text/plain": [
       "<Figure size 432x288 with 1 Axes>"
      ]
     },
     "metadata": {
      "needs_background": "light"
     },
     "output_type": "display_data"
    }
   ],
   "source": [
    "data = [['Linear',.78],\n",
    "     ['Poly Degree 2',.86],\n",
    "     ['Poly Degree 3',.94]]\n",
    "\n",
    "researchQuestion1 = pd.DataFrame(data, columns= ['Model', 'Mean Squared Error'])\n",
    "ax = researchQuestion1.plot.bar(x = 'Model', y='Mean Squared Error', title = \"Model vs Mean Squared Error (MSE)\")\n",
    "ax.set_ylabel(\"MSE\")"
   ]
  },
  {
   "cell_type": "code",
   "execution_count": 17,
   "metadata": {},
   "outputs": [
    {
     "data": {
      "text/plain": [
       "Text(0, 0.5, 'Accuracy')"
      ]
     },
     "execution_count": 17,
     "metadata": {},
     "output_type": "execute_result"
    },
    {
     "data": {
      "image/png": "[encoded data removed]",
      "text/plain": [
       "<Figure size 432x288 with 1 Axes>"
      ]
     },
     "metadata": {
      "needs_background": "light"
     },
     "output_type": "display_data"
    }
   ],
   "source": [
    "data = [['Feature Set 1',1],\n",
    "     ['Feature Set 2',1],\n",
    "     ['Feature Set 3',1]]\n",
    "\n",
    "researchQuestion1 = pd.DataFrame(data, columns= ['Feature Set', 'Accuracy'])\n",
    "ax = researchQuestion1.plot.bar(x = 'Feature Set', y='Accuracy', title = \"Features vs Accuracy\")\n",
    "ax.set_ylabel(\"Accuracy\")"
   ]
  },
  {
   "cell_type": "code",
   "execution_count": null,
   "metadata": {},
   "outputs": [],
   "source": []
  }
 ],
 "metadata": {
  "kernelspec": {
   "display_name": "Python 3",
   "language": "python",
   "name": "python3"
  },
  "language_info": {
   "codemirror_mode": {
    "name": "ipython",
    "version": 3
   },
   "file_extension": ".py",
   "mimetype": "text/x-python",
   "name": "python",
   "nbconvert_exporter": "python",
   "pygments_lexer": "ipython3",
   "version": "3.8.5"
  }
 },
 "nbformat": 4,
 "nbformat_minor": 4
}
